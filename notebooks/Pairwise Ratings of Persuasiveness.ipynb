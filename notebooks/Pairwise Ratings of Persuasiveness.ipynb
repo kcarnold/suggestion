{
 "cells": [
  {
   "cell_type": "markdown",
   "metadata": {},
   "source": [
    "# Timeline\n",
    "- 2017-10-05 - Started\n",
    "\n",
    "# Goal\n",
    "Get better data about persuasiveness by:\n",
    "- asking pairwise comparisons, within-subject where possible\n",
    "- asking an impersonal question\n"
   ]
  },
  {
   "cell_type": "markdown",
   "metadata": {},
   "source": [
    "## Get the analysis data"
   ]
  },
  {
   "cell_type": "code",
   "execution_count": 24,
   "metadata": {},
   "outputs": [],
   "source": [
    "import os\n",
    "import json\n",
    "import pandas as pd\n",
    "import toolz\n"
   ]
  },
  {
   "cell_type": "code",
   "execution_count": 3,
   "metadata": {},
   "outputs": [],
   "source": [
    "os.chdir(os.path.expanduser('/Users/kcarnold/code/suggestion/'))"
   ]
  },
  {
   "cell_type": "code",
   "execution_count": 7,
   "metadata": {
    "collapsed": true
   },
   "outputs": [
    {
     "name": "stdout",
     "output_type": "stream",
     "text": [
      "Inserted but backspaced... 3mr4jp tail tail\n",
      "Inserted but backspaced... 7qc24j mily mil\n",
      "Inserted but backspaced... 7qc24j friendly friend\n",
      "Inserted but backspaced... 7qc24j go g\n",
      "Inserted but backspaced... wgfq8r staurants stauran\n",
      "Inserted but backspaced... v7g5x5 ence ence\n",
      "Inserted but backspaced... v7g5x5 f f\n",
      "Inserted but backspaced... v7g5x5 sh sh\n",
      "Inserted but backspaced... v7g5x5 cles cle\n",
      "Inserted but backspaced... v7g5x5 fs f\n",
      "________________________________________________________________________________\n",
      "[Memory] Calling suggestion.analysis_util.get_log_analysis_raw...\n",
      "get_log_analysis_raw(PosixPath('/Users/kcarnold/code/suggestion/logs/5p85g8.jsonl'), 1611657, git_rev='ab04f1a', analysis_files={ 'analysis': '#!/bin/bash\\n'\n",
      "              'cd \"$(dirname ${BASH_SOURCE[0]})\"\\n'\n",
      "              'NODE_ENV=development ./node_modules/babel-cli/bin/babel-node.js '\n",
      "              '--presets env,react-app analyze.js\\n',\n",
      "  'analyze.js': \"import {analyzeLog} from './src/Analyzer.js';\\n\"\n",
      "                \"var fs = require('fs');\\n\"\n",
      "                '\\n'\n",
      "                'console.log = console.warn;\\n'\n",
      "                'global.alert = () => {};\\n'\n",
      "                '\\n'\n",
      "                '// see https://gist.github.com/kristopherjohnson/5065599\\n'\n",
      "                'function readStdin(callback) {\\n'\n",
      "                \"  var data = '';\\n\"\n",
      "                '  var stdin = process.stdin;\\n'\n",
      "                '  stdin...)\n",
      "_____________________________________________get_log_analysis_raw - 3.9s, 0.1min\n",
      "Inserted but backspaced... 5p85g8 beers beer\n",
      "Inserted but backspaced... mw9943 oint oint\n",
      "Inserted but backspaced... mw9943 e e\n",
      "Inserted but backspaced... mw9943 ktail ktail\n",
      "Inserted but backspaced... mw9943 tion tion\n",
      "Inserted but backspaced... mw9943 astic astic\n",
      "Inserted but backspaced... h822fr fets fet\n",
      "Inserted but backspaced... 75x3vv ggies gg\n",
      "Inserted but backspaced... 75x3vv joy joy\n",
      "Inserted but backspaced... 75x3vv yle yle\n",
      "Inserted but backspaced... 75x3vv etables etable\n",
      "Inserted but backspaced... 75x3vv sh sh\n",
      "Inserted but backspaced... 75x3vv asy as\n",
      "________________________________________________________________________________\n",
      "[Memory] Calling suggestion.analysis_util.get_log_analysis_raw...\n",
      "get_log_analysis_raw(PosixPath('/Users/kcarnold/code/suggestion/logs/x42fwx.jsonl'), 1208039, git_rev='ab04f1a', analysis_files={ 'analysis': '#!/bin/bash\\n'\n",
      "              'cd \"$(dirname ${BASH_SOURCE[0]})\"\\n'\n",
      "              'NODE_ENV=development ./node_modules/babel-cli/bin/babel-node.js '\n",
      "              '--presets env,react-app analyze.js\\n',\n",
      "  'analyze.js': \"import {analyzeLog} from './src/Analyzer.js';\\n\"\n",
      "                \"var fs = require('fs');\\n\"\n",
      "                '\\n'\n",
      "                'console.log = console.warn;\\n'\n",
      "                'global.alert = () => {};\\n'\n",
      "                '\\n'\n",
      "                '// see https://gist.github.com/kristopherjohnson/5065599\\n'\n",
      "                'function readStdin(callback) {\\n'\n",
      "                \"  var data = '';\\n\"\n",
      "                '  var stdin = process.stdin;\\n'\n",
      "                '  stdin...)\n",
      "_____________________________________________get_log_analysis_raw - 2.1s, 0.0min\n",
      "Inserted but backspaced... x42fwx nty nty\n",
      "Inserted but backspaced... x42fwx cake cake\n",
      "Inserted but backspaced... x42fwx ip ip\n",
      "Inserted but backspaced... x42fwx tters tter\n",
      "________________________________________________________________________________\n",
      "[Memory] Calling suggestion.analysis_util.get_log_analysis_raw...\n",
      "get_log_analysis_raw(PosixPath('/Users/kcarnold/code/suggestion/logs/vcgh69.jsonl'), 772713, git_rev='ab04f1a', analysis_files={ 'analysis': '#!/bin/bash\\n'\n",
      "              'cd \"$(dirname ${BASH_SOURCE[0]})\"\\n'\n",
      "              'NODE_ENV=development ./node_modules/babel-cli/bin/babel-node.js '\n",
      "              '--presets env,react-app analyze.js\\n',\n",
      "  'analyze.js': \"import {analyzeLog} from './src/Analyzer.js';\\n\"\n",
      "                \"var fs = require('fs');\\n\"\n",
      "                '\\n'\n",
      "                'console.log = console.warn;\\n'\n",
      "                'global.alert = () => {};\\n'\n",
      "                '\\n'\n",
      "                '// see https://gist.github.com/kristopherjohnson/5065599\\n'\n",
      "                'function readStdin(callback) {\\n'\n",
      "                \"  var data = '';\\n\"\n",
      "                '  var stdin = process.stdin;\\n'\n",
      "                '  stdin...)\n",
      "_____________________________________________get_log_analysis_raw - 2.0s, 0.0min\n",
      "Inserted but backspaced... vcgh69 akfast akfast\n",
      "Inserted but backspaced... vcgh69 e e\n",
      "Skipped tokens: beckys\n",
      "Skipped tokens: catanzaros ealking\n",
      "Skipped tokens: cecil\n",
      "Skipped tokens: calabash fatz veruy\n",
      "Skipped tokens: bozo's\n",
      "Skipped tokens: besr\n",
      "Skipped tokens: assaulting rufees\n",
      "Skipped tokens: draping\n",
      "Skipped tokens: delcining lockport tallgrass\n",
      "Skipped tokens: bafflinh nmn nn nnn\n",
      "Skipped tokens: iys\n",
      "Skipped tokens: mamagoos\n",
      "Skipped tokens: sovereigns\n",
      "Skipped tokens: bisuteki\n",
      "Skipped tokens: yhe\n",
      "Skipped tokens: rype tabacco\n",
      "Skipped tokens: appearences lf\n",
      "Skipped tokens: alsl gallows potatas specfic\n",
      "Skipped tokens: conviently\n",
      "Skipped tokens: taiwnese tstebuds\n",
      "Skipped tokens: buildinh overppriced ypsilanti's\n",
      "Skipped tokens: fot\n",
      "Skipped tokens: hotrods\n",
      "{'pos': 0.8181532500052973, 'neg': 0.8463548482827781, 'nonsense': 0.5214345567286744}\n",
      "Missing 39 cols ['Agreeableness', 'CognitiveReflection', 'Creativity', 'Imagination', 'LocusOfControl', 'Trust', 'attention_check_frac_passed_overall', 'attention_check_frac_passed_trial', 'contextual_llk_mean', 'contextual_llk_std', 'education', 'experiment_name', 'instructions', 'is_excluded', 'know_what_to_write', 'latency_75', 'num_topics', 'pairdist_sentences_mean', 'pairdist_sentences_std', 'pairdist_words_mean', 'pairdist_words_std', 'self_report_accuracy', 'stars_after', 'stars_after_groupz', 'stars_after_rank', 'stars_after_z', 'stars_before', 'stars_before_groupz', 'stars_before_rank', 'stars_before_z', 'sugg_contextual_llk_mean', 'sugg_sentiment_group_std_mean', 'sugg_sentiment_mean', 'sugg_sentiment_std', 'sugg_unigram_llk_mean', 'total_actions_nobackspace', 'total_key_taps', 'total_rec_taps', 'total_time']\n",
      "74 extra cols ['Extraversion_hi', 'NeedForCognition_hi', 'Neuroticism_hi', 'OpennessToExperience_hi', 'any_negative', 'any_positive', 'argue_pro', 'characters', 'characters_per_word', 'complex_words', 'efficiency_all', 'efficiency_all_max', 'efficiency_all_min', 'efficiency_full', 'efficiency_full_max', 'efficiency_full_min', 'final_text_for_correction', 'firstEventTimestamp', 'frac_missing_suggs', 'has_any_nonsense', 'kind', 'lastEventTimestamp', 'latency_75_trial', 'latency_75_trial_max', 'latency_75_trial_min', 'long_words', 'max_intensity', 'max_nonsense', 'max_polarity', 'mean_intensity', 'mean_polarity', 'mean_sentiment_mixture', 'num_could_have_inserted_full', 'num_could_have_inserted_sugg', 'num_displayed_suggs', 'num_inserted_full', 'num_inserted_sugg', 'num_missing_suggs', 'num_nonbackspace_actions', 'num_taps_on_recs', 'num_undo', 'other', 'other_comments_trial', 'paragraphs', 'participant_wrote_any_nonsense', 'place_idx', 'place_name', 'place_visit', 'rec_frac_trial_max', 'rec_frac_trial_min', 'reviewing_experience', 'secsOnPage', 'sentences', 'sentences_per_paragraph', 'study', 'syll_per_word', 'syllables', 'techDiff', 'tech_difficulties_trial', 'tlx_effort', 'tlx_frustration', 'tlx_mental', 'tlx_performance', 'tlx_physical', 'tlx_temporal', 'total_actions_nobackspace_overall', 'total_intensity', 'total_key_taps_overall', 'total_polarity', 'total_rec_taps_overall', 'total_time_mins', 'type_token_ratio', 'words_per_sentence', 'wordtypes']\n"
     ]
    }
   ],
   "source": [
    "%run -m suggestion.aggregate_analysis -- --batch persuade_0"
   ]
  },
  {
   "cell_type": "markdown",
   "metadata": {},
   "source": [
    "Construct pairs within subjects."
   ]
  },
  {
   "cell_type": "code",
   "execution_count": 27,
   "metadata": {},
   "outputs": [
    {
     "data": {
      "text/plain": [
       "[{'meta': {'participant_id': '3mr4jp'},\n",
       "  'texts': [{'block': 1,\n",
       "    'condition': 'sentneg',\n",
       "    'final_text': \"if i could give this place six stars i would. i love eating at this restaurant. they always have new specials and keep their classics as staples on the menu. they use local ingredients that are grown within a hundred mile radius of the restaurant. it's close to a lot of offices and is great for a working lunch or to take a client out for a good time. \"},\n",
       "   {'block': 2,\n",
       "    'condition': 'sentpos',\n",
       "    'final_text': 'i recently visited this restaurant for the first time for my birthday. everything about this place is amazing - the ambiance, coziness, food, service, cocktails - i could go on. it was a little pricier than most places in town, but the food is just great and the staff is always very friendly. i would definitely recommend this place for anyone looking for a good local flavor. '}]},\n",
       " {'meta': {'participant_id': '5p85g8'},\n",
       "  'texts': [{'block': 0,\n",
       "    'condition': 'sentpos',\n",
       "    'final_text': 'my boyfriend and i love going to this restaurant. the atmosphere is friendly, fun, and colorful. the staff is welcoming. we have enjoyed the food we ordered every single time. my boyfriend and i love craft beer and they make their own here! the only thing i would change is yhe selection of other craft beers. they have only one they make themselves and a limited selection of other craft beers on draft. they could benefit from a few more local brews on draft. '},\n",
       "   {'block': 1,\n",
       "    'condition': 'sentneg',\n",
       "    'final_text': 'my boyfriend and i came love craft beer. we decided to try this place for the brewed in house beer selection but we have kept coming back because the food. i like the build your own burger opinion with several unique and interesting toppings. my boyfriend was a fan of the poutine which is hard to find in the area. everything we have tried has been delicious and affordable. the only minor complaint is that it can get a bit crowded at peak hours. '}]},\n",
       " {'meta': {'participant_id': '73cqx8'},\n",
       "  'texts': [{'block': 1,\n",
       "    'condition': 'zerosugg',\n",
       "    'final_text': \"bozo's seafood is a well-known secret. it's one of those holes in the wall that you can't miss. seafood is a staple in the south. i remember as a kid eating all the time at bozo's. it is simply the best you will find during your visit. i remember as a kid eating here many times during the week. when i began working, i continued to eat at bozo's. i eat lunch there every week. do not miss out on this restaurant. \"},\n",
       "   {'block': 2,\n",
       "    'condition': 'sentpos',\n",
       "    'final_text': \"wow! that's the first thing that comes to mind when i think of ed's drive inn. this place has a long history and has been around for a very long time. the food is always excellent and the staff are all very friendly and attentive. one of the best things on the menu is the chili cheese burger with fries and a drink. it is one of the best i have ever had in my entire life. definitely do not miss this restaurant. \"}]},\n",
       " {'meta': {'participant_id': '75x3vv'},\n",
       "  'texts': [{'block': 0,\n",
       "    'condition': 'sentpos',\n",
       "    'final_text': \"if you love authentic cuisine, aromatic and flavorful foods, and excellent service and value when it comes to eating out, this is the plce for you! the variety of delicious taiwnese dishes including crispy green veggie or sprouts, lightly marinated meat concoctions, and fresh steamed fishes will delight your tstebuds. the service is fast, calm, and exceedingly polite making for a smooth and enjoyable dining experience. be careful to ask about portion size as some appetizers are larger than you'd expect. \"},\n",
       "   {'block': 2,\n",
       "    'condition': 'sentneg',\n",
       "    'final_text': \"le's is a quaint cafe styled eatery serving a delicious variety of vegetable, seafood, and meat based dishes. the flavors focus around fresh herbs, and selection is very healthy as the dishes are mostly braised, steamed or boiled and not fried. my favorite dishes are the house pho with beef slices and tofu stir fried noodles. the dishes are also not greasy or inundated with msg. it is often hard to get a table during peak hours but its worth the brief wait! \"}]},\n",
       " {'meta': {'participant_id': '7qc24j'},\n",
       "  'texts': [{'block': 0,\n",
       "    'condition': 'sentpos',\n",
       "    'final_text': \"this place is a great place to bring a date or your family. the staff is super friendly! the staff makes you feel like a regular customer. the food is delicious and always fresh and hot when served. i love the atmosphere. it's a great place to go for any occasion. it's a great value for your money as well . the only complaint i have about this place is that sometimes it's cold inside. \"},\n",
       "   {'block': 1,\n",
       "    'condition': 'zerosugg',\n",
       "    'final_text': \"fatz is a unique place. it's ambience is very warm and inviting. the calabash chicken has a flavor that you can only find there. they tend to keep a bit chilly there in the summer, so a sweater is advised. the food is very tasty and freshly cooked. the staff is veruy accomodating and the manager goes around to every table to make sure you are satisfied. it's a great place for casual family dinners. \"}]},\n",
       " {'meta': {'participant_id': '8g355x'},\n",
       "  'texts': [{'block': 0,\n",
       "    'condition': 'sentpos',\n",
       "    'final_text': \"this is my favorite restaurant i have ever been to, and this is the best, cheapest place to take your parents to. its all you can eat buffet, and the food is pretty good or something like that. i love being able to see the kitchen and the food is delicious, and the food is pretty cheap compared to other places i've eaten at this place is amazing and i love this place so much. \"},\n",
       "   {'block': 2,\n",
       "    'condition': 'zerosugg',\n",
       "    'final_text': 'tgi fridays is one of the best places you can go to and be fully satisfied under twelve dollars. the endless apps are the best deal in casual restaurant dining currently going. everybody likes appetizers and now you can get as many as you want now. its totally worth it. the service is grade a and is actually worth tipping over for once. so in my opinion going to tgi is worth it like totally'}]},\n",
       " {'meta': {'participant_id': 'g254c9'},\n",
       "  'texts': [{'block': 0,\n",
       "    'condition': 'sentneg',\n",
       "    'final_text': \"if i could give this place ten stars i would. the food is amazing and the atmosphere is wonderful. the staff is extremely friendly and accommodating to our needs. the food is a bit pricey but its very much worth it in my opinion and experience. they don't take reservations so you may have to wait for a table for a while but you can put your name down on the list and come back. \"},\n",
       "   {'block': 1,\n",
       "    'condition': 'zerosugg',\n",
       "    'final_text': 'out and out is a local favorite that is popular for its custard. i usually get the spicy chicken kick mac and cheese and my kids get the grilled cheese. its besr to call ahead because otherwise you may wait in a very long line just to order. the decor is super fun and the new owners really did a great job  during the remodel. plenty of seating indoor and out. '}]},\n",
       " {'meta': {'participant_id': 'g6f9gj'},\n",
       "  'texts': [{'block': 0,\n",
       "    'condition': 'sentneg',\n",
       "    'final_text': 'my friend recommended it and it looked and tasted like it had been in there for the first time and i will not be returning here again and i will be coming out of the kitchen and the food is good and the atmosphere was great and the food was good enough for me to come to this location a very disappointing given the fact that the manager would be one of the '},\n",
       "   {'block': 1,\n",
       "    'condition': 'sentpos',\n",
       "    'final_text': \"this is my absolute favorite place to hang out if you haven't been here before, and i have to agree with other reviews that the service was so bad that the quality of this place yet, but the quality and taste of thai food in the back corner of th street, so if you're looking at a very reasonable price, this is not the only one who thinks this past saturday night, and it would take an extremely small portion for the price \"}]},\n",
       " {'meta': {'participant_id': 'gq95xx'},\n",
       "  'texts': [{'block': 1,\n",
       "    'condition': 'sentneg',\n",
       "    'final_text': 'wok n roll is a restaraunt my father suggest for me to go out to eat. the place is clean and the service is good. the priced are reasonable. i ate there plenty of times and had a great time. no complaints i think the food is lovely. the chicken wings were very good the shrimp fried rice is excellent. my father was right about the restaurant iys my favorite restaurant in cambridge. '},\n",
       "   {'block': 2,\n",
       "    'condition': 'sentpos',\n",
       "    'final_text': 'mamagoos restaurant is a restaurant that sells food from pizza to seafood dinner. you have a choice to eat in or take out or order from home. the pizza is pretty good yummy. i love their steak and cheese subs oh so good another thing is their cheesecake its good also. the downside is the delivery charge has gone up .the food is still good. '}]},\n",
       " {'meta': {'participant_id': 'h822fr'},\n",
       "  'texts': [{'block': 1,\n",
       "    'condition': 'zerosugg',\n",
       "    'final_text': 'the resturant is conviently located in the cambridge area, close to harvard square. it is easy to locate, most buses and trains go past the resturant. the service is excellent . they are very attentive. the waiter is always available to take your order. the food is eastern . the menu consists mainly of thai dishes. the flavour runs from mild to hot and all the way to very hot. they are very well priced. '},\n",
       "   {'block': 2,\n",
       "    'condition': 'sentpos',\n",
       "    'final_text': 'the theme of the restaurant is indian cuisine. they offer a buffet where you can get a great variety of different types of food and the atmosphere is very nice . it is easy to find a seat at one of the best places to eat in harvard square. the prices is generally fair, with the buffet set at the limits of a student budget . we would often go there for lunch between classes. '}]},\n",
       " {'meta': {'participant_id': 'mw9943'},\n",
       "  'texts': [{'block': 1,\n",
       "    'condition': 'sentneg',\n",
       "    'final_text': 'this place is always a safe bet and never disappoints! the menu has a good selection of a variety of things and the atmosphere is always fun and inviting. this restaurant is part of the grafton group and i love all their restaurants. good for dates, friends, family. their brunch i will admit is a bit small in selection. definitely check out dinner and cocktails! service is usually pretty good and portions of good size. just an all around great spot to eat and drink! '},\n",
       "   {'block': 2,\n",
       "    'condition': 'sentpos',\n",
       "    'final_text': 'this is the first and only place i truly believe is worth the usual one hour wait. i usually put my name in and walk down to the gallows for a drink at their bad. potatas brava is my favorite tapas. the paella is alsl amazing too but it does take a while to prepare. the two guys behind toro have a few restaurants around town all are fantastic-coppa is close by and they take reservations if you need a specfic time to dine '}]},\n",
       " {'meta': {'participant_id': 'r3ghhw'},\n",
       "  'texts': [{'block': 0,\n",
       "    'condition': 'zerosugg',\n",
       "    'final_text': 'catanzaros is one of the best pizza joints i have been to in my life. the pizzas are very large, the ingrediants fresh and the options are surprisingly robust considering the size of the place. there is no place to sit down inside but it feels like ealking in to a family kitchen. i have never had any complaints about the food quality or the quality of my order accuracy. my only real complaint would be the price which can be a little high but that is to be expected from a small business '},\n",
       "   {'block': 1,\n",
       "    'condition': 'sentneg',\n",
       "    'final_text': 'i went to cecil and lime for the first time a month ago after driving past it for ten years of living near it and i have to say that i have never had a better dining experience in my entire life. the food was great albeit expensive for the amount of food, but the service and food were excellent. i will be returning to try a bunch of different types of food in the future. '}]},\n",
       " {'meta': {'participant_id': 'r5w3h9'},\n",
       "  'texts': [{'block': 1,\n",
       "    'condition': 'sentpos',\n",
       "    'final_text': \"this place is one of the best places to eat. theyre food is always so fresh and tastes delicious. their pancakes are my really good and i like that they do home fries. theyre quite good and i like thier free parking. its nice while you're in the city. the waitstaff is super friendly and the prices were reasonable. they treat their customers like family. \"},\n",
       "   {'block': 2,\n",
       "    'condition': 'zerosugg',\n",
       "    'final_text': 'this place is really quite good. the interior looks very hip and stylish and theres always room at the bar. you can almost always find a good seat especially in the summertime. they play good music and the food is amazing. i greatly prefer their nosh burger. its a burger with pizzza slices for buns. it sounds weird but really is delicious. you should try it'}]},\n",
       " {'meta': {'participant_id': 'v7g5x5'},\n",
       "  'texts': [{'block': 1,\n",
       "    'condition': 'zerosugg',\n",
       "    'final_text': 'the well known legal seafoods chain offers diners a reliable experience with delicious, fresh seafood which is worth the expense. the chain takes pride in locally sourcing much of its fare, and these ingredients combine with good recipes and skilled chefs for a tasty if not cheap experience. particularly good are their clam chowder and any salmon dish. they also have alternatives such as steak for those not fin inclined, but dont be the guy who goes to a beer bar and orders a heineken. '},\n",
       "   {'block': 2,\n",
       "    'condition': 'sentpos',\n",
       "    'final_text': \"bisuteki tokyo is a hibachi joint located inside the marriott hotel on memorial drive in cambridge. if you enjoy the hibachi experience this is a great place to go. talented chefs prepare the food right in front of you and the result is tasty freshly grilled food. the price is reasonable for the spectacle and it's a great place for a medium sized group of people so you have lots of time to see the chef show off his art. \"}]},\n",
       " {'meta': {'participant_id': 'vcgh69'},\n",
       "  'texts': [{'block': 0,\n",
       "    'condition': 'zerosugg',\n",
       "    'final_text': 'the mexican hotdogs are to die fot at this place. the buns are always very fresh and the condiment bar is always being stocked. i have been there on many weekend nights when there has been live music and fun for all ages. they have plenty of other food selections and everything i have tried has been great. we take all of our out  of town guests there for a taste of tucson. the only draw back is the building is quite old. '},\n",
       "   {'block': 1,\n",
       "    'condition': 'sentneg',\n",
       "    'final_text': 'if i could give this place more than three stars i would. this restaurant has been open for many years. it is one of my favorite places to eat in tucson. there breakfasts are very good, and the service was very and fast. their portions are huge and the prices are very reasonable. they make the best cinnamon rolls i have ever eaten in my entire life. because they are so good there is almost always a line of people waiting to be seated so make sure you allow plenty of time. '}]},\n",
       " {'meta': {'participant_id': 'wgfq8r'},\n",
       "  'texts': [{'block': 1,\n",
       "    'condition': 'sentpos',\n",
       "    'final_text': 'antonios is definetly in my top three picks for my favorite local restaurant. it is a small little walk in place located in a stripmall in town. they only have a handful of tables to dine in with, but they offer carry out and delivery as well. the five dollar delivery charge is pretty unfair, but if you dont mind paying the quality and taste of the food is definitely worth it. the food is traditional greek and portions are large. '},\n",
       "   {'block': 2,\n",
       "    'condition': 'zerosugg',\n",
       "    'final_text': \"tallgrass is an upscale french restaurant located in the historical downtown area of lockport. the entrance is a bit enchanting offering a set of delcining steps to the restaurant's hidden front entrance. the food here is very upscale and pricey and unless you can afford it otherwise, its generally a place you will only visit on special occasions. the service is top notch right along with the courses offered. everyday presents a variation on courses offered. all ingredients are obviously super fresh and only of the utmost highest quality. portion sizes are small but courses offered always seem adequate on the appetite. \"}]},\n",
       " {'meta': {'participant_id': 'x42fwx'},\n",
       "  'texts': [{'block': 0,\n",
       "    'condition': 'sentneg',\n",
       "    'final_text': \"dom bakeries is an ypsilanti institution. it is a twenty-four hour doughnut shop. they also offer bread, bagels, cupcakes, and custom-decorated cakes. their apple fritter is out of this world! it has been in business since the sixties, with some employees dating back to those times. it is cash only, although there is an atm on site. insider tip- go at night, because they bake in the evening! and don't forget to try the apple fritter! \"},\n",
       "   {'block': 2,\n",
       "    'condition': 'sentpos',\n",
       "    'final_text': 'one of my favorite places to eat in the city is los amigos. not only is the menu authentic and full of variety, the prices are very reasonable, and the food is always fresh and delicious. the staff are very friendly and attentive, and they make strong drinks. every sunday evening, a mariachi band plays. for soccer fans, you can usually find a game on the tvs. the best items to order are the fajitas and the chimichangas. '}]}]"
      ]
     },
     "execution_count": 27,
     "metadata": {},
     "output_type": "execute_result"
    }
   ],
   "source": [
    "pairs = []\n",
    "for participant_id, trials in trial_level_data[trial_level_data.argue_pro].groupby('participant_id'):\n",
    "    pairs.append(dict(\n",
    "        meta=dict(participant_id=participant_id),\n",
    "        texts=trials.filter('block,condition,final_text'.split(',')).to_dict('records')))\n",
    "    \n",
    "pairs    "
   ]
  },
  {
   "cell_type": "markdown",
   "metadata": {},
   "source": [
    "Generate attention-check phrases: one phrase that did occur in the pair, one that didn't."
   ]
  },
  {
   "cell_type": "code",
   "execution_count": 50,
   "metadata": {},
   "outputs": [],
   "source": [
    "import random\n",
    "def rand_substring(s, num_words):\n",
    "    words = s.split()\n",
    "    start_idx = random.randrange(len(words) - num_words)\n",
    "    return ' '.join(words[start_idx:start_idx + num_words])\n",
    "\n",
    "num_words = 5\n",
    "check_texts = []\n",
    "for idx, pair in enumerate(pairs):\n",
    "    while True:\n",
    "        which = random.randrange(2)\n",
    "        true_text = pair['texts'][which]['final_text']\n",
    "        true = rand_substring(true_text, num_words)\n",
    "        if true in true_text and all(true not in text['final_text'] for idx2, pair in enumerate(pairs) if idx != idx2 for text in pair['texts']):\n",
    "            check_texts.append(true)\n",
    "            break\n",
    "        "
   ]
  },
  {
   "cell_type": "code",
   "execution_count": 54,
   "metadata": {},
   "outputs": [],
   "source": [
    "assert len(check_texts) == len(pairs)\n",
    "for idx, check_text in enumerate(check_texts):\n",
    "    pairs[idx]['check_texts'] = dict(good=check_text, bad=check_texts[(idx + 6) % len(check_texts)])\n"
   ]
  },
  {
   "cell_type": "markdown",
   "metadata": {},
   "source": [
    "Create batches of 6 pairs, write to CSV."
   ]
  },
  {
   "cell_type": "code",
   "execution_count": 55,
   "metadata": {},
   "outputs": [
    {
     "name": "stdout",
     "output_type": "stream",
     "text": [
      "Tacking on extra to the last batch.\n"
     ]
    }
   ],
   "source": [
    "def batchify_to_csv(items, batch_size, out_fname):\n",
    "    batches = list(toolz.partition_all(batch_size, items))\n",
    "    if len(batches[-1]) != batch_size:\n",
    "        print(\"Tacking on extra to the last batch.\")\n",
    "        batches[-1] = (batches[-1] + batches[0])[:batch_size]\n",
    "    assert len(batches[-1]) == batch_size\n",
    "    pd.DataFrame(dict(task=[json.dumps(batch) for batch in batches])).to_csv(out_fname, index=False)\n",
    "\n",
    "batchify_to_csv(pairs, 6, '/Users/kcarnold/code/suggestion/annotation_ui/pairwise-persuasive-task.csv')"
   ]
  },
  {
   "cell_type": "code",
   "execution_count": null,
   "metadata": {},
   "outputs": [],
   "source": []
  }
 ],
 "metadata": {
  "kernelspec": {
   "display_name": "Python 3",
   "language": "python",
   "name": "python3"
  },
  "language_info": {
   "codemirror_mode": {
    "name": "ipython",
    "version": 3
   },
   "file_extension": ".py",
   "mimetype": "text/x-python",
   "name": "python",
   "nbconvert_exporter": "python",
   "pygments_lexer": "ipython3",
   "version": "3.6.2"
  }
 },
 "nbformat": 4,
 "nbformat_minor": 2
}
